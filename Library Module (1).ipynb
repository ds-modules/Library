{
 "cells": [
  {
   "cell_type": "markdown",
   "metadata": {},
   "source": [
    "# Library Module"
   ]
  },
  {
   "cell_type": "markdown",
   "metadata": {},
   "source": [
    "Python is a programming language applied very frequently in data science. In the first part of this notebook, we will give a brief overview of Python syntax, functions. \n",
    "\n",
    "\n",
    "But first, let's go over how to navigate through this Jupyter Notebook. "
   ]
  },
  {
   "cell_type": "markdown",
   "metadata": {},
   "source": [
    "## Introduction to Jupyter Notebook"
   ]
  },
  {
   "cell_type": "markdown",
   "metadata": {},
   "source": [
    "### Create Cells"
   ]
  },
  {
   "cell_type": "markdown",
   "metadata": {},
   "source": [
    "This notebook contains segments called \"cells\". To add a cell to the notebook, click the \"+\" in the top left area right under \"File\". \n",
    "\n",
    "Within a cell, you have the option to write code, create a heading, or write text. To select an option, click on the \"Code\" button, located on the same row as \"+\". You will see a menu of options to choose from. \n",
    "\n",
    "\n",
    "Markdown - use for text\n",
    "<br>\n",
    "Code - use for running code\n",
    "<br>\n",
    "Heading - use for titles"
   ]
  },
  {
   "cell_type": "markdown",
   "metadata": {},
   "source": [
    "### Delete Cells"
   ]
  },
  {
   "cell_type": "markdown",
   "metadata": {},
   "source": [
    "To delete a cell, click on the cell, and click the **scissors** icon next to the \"+\""
   ]
  },
  {
   "cell_type": "markdown",
   "metadata": {},
   "source": [
    "### Editing and Running Cells"
   ]
  },
  {
   "cell_type": "markdown",
   "metadata": {},
   "source": [
    "**Running a cell** is equivalent to pressing **Enter** on a calculator once you've typed in the expression you want to evaluate: it produces an **output**. When you run a text cell, it outputs clean, organized writing. When you run a code cell, it **computes** all of the expressions you want to evaluate, and may **output** the result of the computation.\n",
    "\n",
    "To edit the content a cell, first click on that cell to activate it.  It'll be highlighted with a little green or blue rectangle. Next, double-click on it. For example, if you double-click the \"Running Cells\" heading, you will see **### Running Cells** in bold, blue font. \n",
    "\n",
    "To run a cell, either click \"Run\" in the panel below \"File, Edit...\", or press Shift + Enter on your laptop. "
   ]
  },
  {
   "cell_type": "markdown",
   "metadata": {},
   "source": [
    "### Saving Your Work"
   ]
  },
  {
   "cell_type": "markdown",
   "metadata": {},
   "source": [
    "To save your work, click on \"File\", then \"Save and Checkpoint\". If you have a Mac, you can click **\"Command + S\"**. "
   ]
  },
  {
   "cell_type": "markdown",
   "metadata": {},
   "source": [
    "For this notebook, you only need to know how to run, edit and create cells. However, for more assistance with navigating Jupyter Notebook, click on the **keyboard** icon next to the cell drop-down menu.\n",
    "\n",
    "For more help, here's a great cheat sheet: https://i.pinimg.com/originals/f5/7e/07/f57e074be4503a39f6d9d8d15f0e8aa5.png"
   ]
  },
  {
   "cell_type": "markdown",
   "metadata": {},
   "source": [
    "# Introduction to Python"
   ]
  },
  {
   "cell_type": "markdown",
   "metadata": {},
   "source": [
    "### Variables"
   ]
  },
  {
   "cell_type": "markdown",
   "metadata": {},
   "source": [
    "A name that is used to denote something or a value is called a variable. In python, variables can be declared and values can be assigned to them. Values can include numbers and strings. Run the code below:"
   ]
  },
  {
   "cell_type": "code",
   "execution_count": 9,
   "metadata": {},
   "outputs": [],
   "source": [
    "x = 5\n",
    "y = 2\n",
    "hi = \"Hello World\""
   ]
  },
  {
   "cell_type": "markdown",
   "metadata": {},
   "source": [
    "Because the above cell ran, we've now officially assigned the variables to values. Run the cell (Shift + Enter) below to see the output of \"x\", \"hi\", and \"print (x+y)\""
   ]
  },
  {
   "cell_type": "code",
   "execution_count": 6,
   "metadata": {},
   "outputs": [
    {
     "data": {
      "text/plain": [
       "5"
      ]
     },
     "execution_count": 6,
     "metadata": {},
     "output_type": "execute_result"
    }
   ],
   "source": [
    "x"
   ]
  },
  {
   "cell_type": "code",
   "execution_count": 7,
   "metadata": {},
   "outputs": [
    {
     "data": {
      "text/plain": [
       "'Hello World'"
      ]
     },
     "execution_count": 7,
     "metadata": {},
     "output_type": "execute_result"
    }
   ],
   "source": [
    "hi"
   ]
  },
  {
   "cell_type": "code",
   "execution_count": 12,
   "metadata": {},
   "outputs": [
    {
     "name": "stdout",
     "output_type": "stream",
     "text": [
      "7\n"
     ]
    }
   ],
   "source": [
    "print (x + y)"
   ]
  },
  {
   "cell_type": "markdown",
   "metadata": {},
   "source": [
    "## Introduction to Visualization"
   ]
  },
  {
   "cell_type": "markdown",
   "metadata": {},
   "source": [
    "### Matplotlib"
   ]
  },
  {
   "cell_type": "code",
   "execution_count": 13,
   "metadata": {},
   "outputs": [],
   "source": [
    "import matplotlib"
   ]
  },
  {
   "cell_type": "code",
   "execution_count": null,
   "metadata": {},
   "outputs": [],
   "source": []
  },
  {
   "cell_type": "markdown",
   "metadata": {},
   "source": [
    "# Intro to CrossRef"
   ]
  },
  {
   "cell_type": "markdown",
   "metadata": {},
   "source": [
    "CrossRef is a non-profit organization that helps to provides access to scientific literature. According to their website itself, CrossRef \"makes research outputs easy to find, cite, link, and assess\". \n",
    "\n",
    "CrossRef data on scientific publications essentially consists of three elements:\n",
    "<br>\n",
    "    1) Metadata about a publication\n",
    "    <br>\n",
    "    2) A URL link to the article\n",
    "    <br>\n",
    "    3) A document identifier (doi)\n",
    "    <br>\n",
    "    \n",
    "At present CrossRef contains information on 80 million scientific publications including articles, books and book chapters."
   ]
  },
  {
   "cell_type": "markdown",
   "metadata": {},
   "source": [
    "Data can be accessed using the python packages habanero, crossrefapi, and crossref-commons. In this module, we'll be focusing on the functionality of the **habanero** package. "
   ]
  },
  {
   "cell_type": "markdown",
   "metadata": {},
   "source": [
    "### Import CrossRef Package"
   ]
  },
  {
   "cell_type": "markdown",
   "metadata": {},
   "source": [
    "When importing a package into Jupyter Notebook, we use the command \"pip install ...\" to download a package into Jupyter Notebook. \n",
    "\n",
    "We then use the command \"import __(package name)__\" to use our new package in our code. "
   ]
  },
  {
   "cell_type": "code",
   "execution_count": 8,
   "metadata": {},
   "outputs": [
    {
     "name": "stdout",
     "output_type": "stream",
     "text": [
      "Collecting habanero\n",
      "  Downloading https://files.pythonhosted.org/packages/c5/97/b13dfc458931cbe8f737d26f832081bbc0783851e73fc70089b608a312d7/habanero-0.6.2-py2.py3-none-any.whl\n",
      "Requirement already satisfied: requests>=2.7.0 in ./anaconda3/lib/python3.6/site-packages (from habanero) (2.18.4)\n",
      "Requirement already satisfied: chardet<3.1.0,>=3.0.2 in ./anaconda3/lib/python3.6/site-packages (from requests>=2.7.0->habanero) (3.0.4)\n",
      "Requirement already satisfied: idna<2.7,>=2.5 in ./anaconda3/lib/python3.6/site-packages (from requests>=2.7.0->habanero) (2.6)\n",
      "Requirement already satisfied: urllib3<1.23,>=1.21.1 in ./anaconda3/lib/python3.6/site-packages (from requests>=2.7.0->habanero) (1.22)\n",
      "Requirement already satisfied: certifi>=2017.4.17 in ./anaconda3/lib/python3.6/site-packages (from requests>=2.7.0->habanero) (2018.4.16)\n",
      "Installing collected packages: habanero\n",
      "Successfully installed habanero-0.6.2\n"
     ]
    }
   ],
   "source": [
    "!pip install habanero"
   ]
  },
  {
   "cell_type": "code",
   "execution_count": 16,
   "metadata": {},
   "outputs": [],
   "source": [
    "import habanero\n",
    "from habanero import Crossref"
   ]
  },
  {
   "cell_type": "markdown",
   "metadata": {},
   "source": [
    "To create an object that takes on the Crossref identity, we assign it to the variable 'cr'."
   ]
  },
  {
   "cell_type": "code",
   "execution_count": 17,
   "metadata": {},
   "outputs": [],
   "source": [
    "cr = Crossref()      "
   ]
  },
  {
   "cell_type": "code",
   "execution_count": 24,
   "metadata": {},
   "outputs": [],
   "source": [
    "# cr.journals(ids = \"2167-8359\")\n",
    "# cr.journals()"
   ]
  },
  {
   "cell_type": "code",
   "execution_count": 25,
   "metadata": {},
   "outputs": [
    {
     "name": "stdout",
     "output_type": "stream",
     "text": [
      "Requirement already satisfied: crossref-commons in ./anaconda3/lib/python3.6/site-packages (0.0.6)\n",
      "Requirement already satisfied: requests>=2.18.4 in ./anaconda3/lib/python3.6/site-packages (from crossref-commons) (2.18.4)\n",
      "Requirement already satisfied: ratelimit>=2.2.1 in ./anaconda3/lib/python3.6/site-packages (from crossref-commons) (2.2.1)\n",
      "Requirement already satisfied: chardet<3.1.0,>=3.0.2 in ./anaconda3/lib/python3.6/site-packages (from requests>=2.18.4->crossref-commons) (3.0.4)\n",
      "Requirement already satisfied: idna<2.7,>=2.5 in ./anaconda3/lib/python3.6/site-packages (from requests>=2.18.4->crossref-commons) (2.6)\n",
      "Requirement already satisfied: urllib3<1.23,>=1.21.1 in ./anaconda3/lib/python3.6/site-packages (from requests>=2.18.4->crossref-commons) (1.22)\n",
      "Requirement already satisfied: certifi>=2017.4.17 in ./anaconda3/lib/python3.6/site-packages (from requests>=2.18.4->crossref-commons) (2018.4.16)\n"
     ]
    }
   ],
   "source": [
    "!pip3 install crossref-commons"
   ]
  },
  {
   "cell_type": "code",
   "execution_count": 27,
   "metadata": {},
   "outputs": [],
   "source": [
    "import crossref_commons.retrieval\n",
    "\n",
    "\n",
    "# crossref_commons.retrieval.get_publication_as_xml('10.5621/sciefictstud.40.2.0382')\n",
    "# crossref_commons.retrieval.get_publication_as_refstring('10.5621/sciefictstud.40.2.0382', 'ieee')\n",
    "\n",
    "# crossref_commons.retrieval.get_member_as_json('15')\n"
   ]
  },
  {
   "cell_type": "code",
   "execution_count": 28,
   "metadata": {},
   "outputs": [
    {
     "data": {
      "text/plain": [
       "{'indexed': {'date-parts': [[2019, 2, 13]],\n",
       "  'date-time': '2019-02-13T06:55:36Z',\n",
       "  'timestamp': 1550040936005},\n",
       " 'reference-count': 0,\n",
       " 'publisher': 'SF-TH, Inc.',\n",
       " 'issue': '2',\n",
       " 'content-domain': {'domain': [], 'crossmark-restriction': False},\n",
       " 'short-container-title': ['Science Fiction Studies'],\n",
       " 'published-print': {'date-parts': [[2013]]},\n",
       " 'DOI': '10.5621/sciefictstud.40.2.0382',\n",
       " 'type': 'journal-article',\n",
       " 'created': {'date-parts': [[2013, 7, 2]],\n",
       "  'date-time': '2013-07-02T12:51:49Z',\n",
       "  'timestamp': 1372769509000},\n",
       " 'page': '382',\n",
       " 'source': 'Crossref',\n",
       " 'is-referenced-by-count': 0,\n",
       " 'title': ['Humanism on Gallifrey'],\n",
       " 'prefix': '10.5621',\n",
       " 'volume': '40',\n",
       " 'author': [{'family': 'Elizabeth Lundberg',\n",
       "   'sequence': 'first',\n",
       "   'affiliation': []}],\n",
       " 'member': '3593',\n",
       " 'container-title': ['Science Fiction Studies'],\n",
       " 'original-title': [],\n",
       " 'deposited': {'date-parts': [[2017, 9, 8]],\n",
       "  'date-time': '2017-09-08T17:33:07Z',\n",
       "  'timestamp': 1504891987000},\n",
       " 'score': 1.0,\n",
       " 'subtitle': [],\n",
       " 'short-title': [],\n",
       " 'issued': {'date-parts': [[2013]]},\n",
       " 'references-count': 0,\n",
       " 'journal-issue': {'published-print': {'date-parts': [[2013]]}, 'issue': '2'},\n",
       " 'alternative-id': ['10.5621/sciefictstud.40.2.0382'],\n",
       " 'URL': 'http://dx.doi.org/10.5621/sciefictstud.40.2.0382',\n",
       " 'relation': {},\n",
       " 'ISSN': ['0091-7729'],\n",
       " 'issn-type': [{'value': '0091-7729', 'type': 'print'}]}"
      ]
     },
     "execution_count": 28,
     "metadata": {},
     "output_type": "execute_result"
    }
   ],
   "source": [
    "crossref_commons.retrieval.get_publication_as_json('10.5621/sciefictstud.40.2.0382')"
   ]
  },
  {
   "cell_type": "code",
   "execution_count": null,
   "metadata": {},
   "outputs": [],
   "source": []
  }
 ],
 "metadata": {
  "kernelspec": {
   "display_name": "Python 3",
   "language": "python",
   "name": "python3"
  },
  "language_info": {
   "codemirror_mode": {
    "name": "ipython",
    "version": 3
   },
   "file_extension": ".py",
   "mimetype": "text/x-python",
   "name": "python",
   "nbconvert_exporter": "python",
   "pygments_lexer": "ipython3",
   "version": "3.6.5"
  }
 },
 "nbformat": 4,
 "nbformat_minor": 2
}
